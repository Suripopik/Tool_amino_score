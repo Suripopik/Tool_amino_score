{
 "cells": [
  {
   "cell_type": "code",
   "execution_count": 1,
   "id": "b037cfdc",
   "metadata": {},
   "outputs": [],
   "source": [
    "import re\n",
    "import pandas as pd\n",
    "import plotly.express as px"
   ]
  },
  {
   "cell_type": "code",
   "execution_count": 1,
   "id": "9b2d7905",
   "metadata": {},
   "outputs": [
    {
     "ename": "FileNotFoundError",
     "evalue": "[Errno 2] No such file or directory: 'path'",
     "output_type": "error",
     "traceback": [
      "\u001b[1;31m---------------------------------------------------------------------------\u001b[0m",
      "\u001b[1;31mFileNotFoundError\u001b[0m                         Traceback (most recent call last)",
      "Input \u001b[1;32mIn [1]\u001b[0m, in \u001b[0;36m<cell line: 5>\u001b[1;34m()\u001b[0m\n\u001b[0;32m      2\u001b[0m fasta_file_path \u001b[38;5;241m=\u001b[39m \u001b[38;5;124m\"\u001b[39m\u001b[38;5;124mpath\u001b[39m\u001b[38;5;124m\"\u001b[39m\n\u001b[0;32m      3\u001b[0m fasta_data \u001b[38;5;241m=\u001b[39m []\n\u001b[1;32m----> 5\u001b[0m \u001b[38;5;28;01mwith\u001b[39;00m \u001b[38;5;28;43mopen\u001b[39;49m\u001b[43m(\u001b[49m\u001b[43mfasta_file_path\u001b[49m\u001b[43m,\u001b[49m\u001b[43m \u001b[49m\u001b[38;5;124;43m\"\u001b[39;49m\u001b[38;5;124;43mr\u001b[39;49m\u001b[38;5;124;43m\"\u001b[39;49m\u001b[43m)\u001b[49m \u001b[38;5;28;01mas\u001b[39;00m fasta_file_path:\n\u001b[0;32m      6\u001b[0m     current_sequence \u001b[38;5;241m=\u001b[39m \u001b[38;5;124m\"\u001b[39m\u001b[38;5;124m\"\u001b[39m\n\u001b[0;32m      7\u001b[0m     \u001b[38;5;28;01mfor\u001b[39;00m line \u001b[38;5;129;01min\u001b[39;00m fasta_file:\n",
      "\u001b[1;31mFileNotFoundError\u001b[0m: [Errno 2] No such file or directory: 'path'"
     ]
    }
   ],
   "source": [
    "#Filtration from 'X' values and preparing input file\n",
    "fasta_file_path = \"path\"\n",
    "fasta_data = []\n",
    "\n",
    "with open(fasta_file_path, \"r\") as fasta_file_path:\n",
    "    current_sequence = \"\"\n",
    "    for line in fasta_file:\n",
    "        if line.startswith(\">\"):\n",
    "            if current_sequence:\n",
    "                fasta_data.append(current_sequence)\n",
    "            current_sequence += line.strip()\n",
    "        else:\n",
    "            current_sequence += line.strip()\n",
    "            \n",
    "if current_sequence:\n",
    "    fasta_data.append(current_sequence)\n",
    "    \n",
    "df = pd.DataFrame(fasta_data, columns = ['sequence'])\n",
    "\n",
    "df1 = df1['sequence'].str.contains('X')\n",
    "\n",
    "def split_numbers_letters(cell_value):\n",
    "    return re.sub(r'(\\d)([A-Za-z])', r'\\1\\n\\2', cell_value)\n",
    "\n",
    "df1 = df1 + '\\n'\n",
    "\n",
    "with open('test.fa', 'w') as f:\n",
    "    for value in df1:\n",
    "        f.write(value)"
   ]
  },
  {
   "cell_type": "code",
   "execution_count": null,
   "id": "5bb880e5",
   "metadata": {},
   "outputs": [],
   "source": []
  }
 ],
 "metadata": {
  "kernelspec": {
   "display_name": "Python 3 (ipykernel)",
   "language": "python",
   "name": "python3"
  },
  "language_info": {
   "codemirror_mode": {
    "name": "ipython",
    "version": 3
   },
   "file_extension": ".py",
   "mimetype": "text/x-python",
   "name": "python",
   "nbconvert_exporter": "python",
   "pygments_lexer": "ipython3",
   "version": "3.9.12"
  }
 },
 "nbformat": 4,
 "nbformat_minor": 5
}
